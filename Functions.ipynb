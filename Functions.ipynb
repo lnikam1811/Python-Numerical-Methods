{
  "nbformat": 4,
  "nbformat_minor": 0,
  "metadata": {
    "colab": {
      "provenance": [],
      "authorship_tag": "ABX9TyPgnaNyjd/Z5A6Hv4pPxW6u",
      "include_colab_link": true
    },
    "kernelspec": {
      "name": "python3",
      "display_name": "Python 3"
    },
    "language_info": {
      "name": "python"
    }
  },
  "cells": [
    {
      "cell_type": "markdown",
      "metadata": {
        "id": "view-in-github",
        "colab_type": "text"
      },
      "source": [
        "<a href=\"https://colab.research.google.com/github/lnikam1811/Python-Numerical-Methods/blob/master/Functions.ipynb\" target=\"_parent\"><img src=\"https://colab.research.google.com/assets/colab-badge.svg\" alt=\"Open In Colab\"/></a>"
      ]
    },
    {
      "cell_type": "markdown",
      "source": [
        "# Functions"
      ],
      "metadata": {
        "id": "i_WJcDRdP-rU"
      }
    },
    {
      "cell_type": "code",
      "execution_count": null,
      "metadata": {
        "colab": {
          "base_uri": "https://localhost:8080/"
        },
        "id": "nt4tI9rSP7MS",
        "outputId": "1d50763b-a2f4-4df4-db1c-b6f56a738b5f"
      },
      "outputs": [
        {
          "output_type": "execute_result",
          "data": {
            "text/plain": [
              "builtin_function_or_method"
            ]
          },
          "metadata": {},
          "execution_count": 18
        }
      ],
      "source": [
        "type(len)"
      ]
    },
    {
      "cell_type": "code",
      "source": [
        "import numpy as np\n",
        "\n",
        "np.linspace?"
      ],
      "metadata": {
        "id": "jmq_8rQBQSld"
      },
      "execution_count": null,
      "outputs": []
    },
    {
      "cell_type": "code",
      "source": [
        "def my_adder(a, b, c):\n",
        "  \"\"\"\n",
        "  Function to sum the 3 numbers\n",
        "  Input: 3 numbers a, b, c\n",
        "  Output: The sum of a, b, and c\n",
        "  author:\n",
        "  date:\n",
        "  \"\"\"\n",
        "  # This is the summation\n",
        "  out = a + b + c\n",
        "\n",
        "  return out"
      ],
      "metadata": {
        "id": "wVXTajV8QZlS"
      },
      "execution_count": null,
      "outputs": []
    },
    {
      "cell_type": "code",
      "source": [
        "help(my_adder)"
      ],
      "metadata": {
        "colab": {
          "base_uri": "https://localhost:8080/"
        },
        "id": "PVkp4B6cSbqQ",
        "outputId": "352521ee-0253-40cc-e5d0-51840bf01f0f"
      },
      "execution_count": null,
      "outputs": [
        {
          "output_type": "stream",
          "name": "stdout",
          "text": [
            "Help on function my_adder in module __main__:\n",
            "\n",
            "my_adder(a, b, c)\n",
            "    Function to sum the 3 numbers\n",
            "    Input: 3 numbers a, b, c\n",
            "    Output: The sum of a, b, and c\n",
            "    author:\n",
            "    date:\n",
            "\n"
          ]
        }
      ]
    },
    {
      "cell_type": "code",
      "source": [
        "def my_test(a, b):\n",
        "    x = a + b\n",
        "    y = x * b\n",
        "    z = a + b\n",
        "\n",
        "    m = 2\n",
        "\n",
        "    print(f'Within function: x={x}, y={y}, z={z}')\n",
        "    return x, y"
      ],
      "metadata": {
        "id": "vte7P_4ATvCP"
      },
      "execution_count": null,
      "outputs": []
    },
    {
      "cell_type": "code",
      "source": [
        "a = 2\n",
        "b = 3\n",
        "z = 1\n",
        "y, x = my_test(b, a)\n",
        "\n",
        "print(f'Outside function: x={x}, y={y}, z={z}')"
      ],
      "metadata": {
        "colab": {
          "base_uri": "https://localhost:8080/"
        },
        "id": "7RzNTxjaUhog",
        "outputId": "d9425715-0d42-406b-dcdc-098537b1e362"
      },
      "execution_count": null,
      "outputs": [
        {
          "output_type": "stream",
          "name": "stdout",
          "text": [
            "Within function: x=5, y=10, z=5\n",
            "Outside function: x=10, y=5, z=1\n"
          ]
        }
      ]
    },
    {
      "cell_type": "code",
      "source": [
        "n = 42\n",
        "\n",
        "def func():\n",
        "    global n\n",
        "    print(f'Within function: n is {n}')\n",
        "    n = 3\n",
        "    print(f'Within function: change n to {n}')\n",
        "\n",
        "func()\n",
        "print(f'Outside function: Value of n is {n}')"
      ],
      "metadata": {
        "id": "4BtBtKOxUtGJ",
        "outputId": "22650b93-4d2c-43f6-b212-b50af4651b44",
        "colab": {
          "base_uri": "https://localhost:8080/"
        }
      },
      "execution_count": null,
      "outputs": [
        {
          "output_type": "stream",
          "name": "stdout",
          "text": [
            "Within function: n is 42\n",
            "Within function: change n to 3\n",
            "Outside function: Value of n is 3\n"
          ]
        }
      ]
    },
    {
      "cell_type": "markdown",
      "source": [
        "# Nested functions"
      ],
      "metadata": {
        "id": "6Y7lqf_0B5hH"
      }
    },
    {
      "cell_type": "code",
      "source": [
        "import numpy as np\n",
        "\n",
        "def my_dist_xyz(x,y,z):\n",
        "  \"\"\"\n",
        "  x, y, z are 2D coordinates contained in tuple\n",
        "  output:\n",
        "  d - list, where\n",
        "  d[0] is the distance between x and y\n",
        "  d[1] is the distance between x and z\n",
        "  d[2] is the distance between y and z\n",
        "  \"\"\"\n",
        "  def my_dist(x,y):\n",
        "    \"\"\"\n",
        "    subfunction for my_dist_xyz\n",
        "    Output is the distance between x and y, computed using the\n",
        "    distance formula.\n",
        "    \"\"\"\n",
        "    out = np.sqrt((x[0]-y[0])**2+(x[1]-y[1])**2)\n",
        "    return out\n",
        "\n",
        "  d0 = my_dist(x,y)\n",
        "  d1 = my_dist(x,z)\n",
        "  d2 = my_dist(y,z)\n",
        "\n",
        "  return [d0, d1, d2]"
      ],
      "metadata": {
        "id": "2tTlbGeJBafl"
      },
      "execution_count": null,
      "outputs": []
    },
    {
      "cell_type": "code",
      "source": [
        "d = my_dist_xyz((0, 0), (0, 1), (1, 1))\n",
        "print(d)\n",
        "d = my_dist((0, 0), (0, 1))"
      ],
      "metadata": {
        "colab": {
          "base_uri": "https://localhost:8080/",
          "height": 226
        },
        "id": "SEdXAmGECg_4",
        "outputId": "e6c5cb0e-55b0-415a-b45e-d6325f5e0066"
      },
      "execution_count": null,
      "outputs": [
        {
          "output_type": "stream",
          "name": "stdout",
          "text": [
            "[1.0, 1.4142135623730951, 1.0]\n"
          ]
        },
        {
          "output_type": "error",
          "ename": "NameError",
          "evalue": "ignored",
          "traceback": [
            "\u001b[0;31m---------------------------------------------------------------------------\u001b[0m",
            "\u001b[0;31mNameError\u001b[0m                                 Traceback (most recent call last)",
            "\u001b[0;32m<ipython-input-26-1bec838581d7>\u001b[0m in \u001b[0;36m<cell line: 3>\u001b[0;34m()\u001b[0m\n\u001b[1;32m      1\u001b[0m \u001b[0md\u001b[0m \u001b[0;34m=\u001b[0m \u001b[0mmy_dist_xyz\u001b[0m\u001b[0;34m(\u001b[0m\u001b[0;34m(\u001b[0m\u001b[0;36m0\u001b[0m\u001b[0;34m,\u001b[0m \u001b[0;36m0\u001b[0m\u001b[0;34m)\u001b[0m\u001b[0;34m,\u001b[0m \u001b[0;34m(\u001b[0m\u001b[0;36m0\u001b[0m\u001b[0;34m,\u001b[0m \u001b[0;36m1\u001b[0m\u001b[0;34m)\u001b[0m\u001b[0;34m,\u001b[0m \u001b[0;34m(\u001b[0m\u001b[0;36m1\u001b[0m\u001b[0;34m,\u001b[0m \u001b[0;36m1\u001b[0m\u001b[0;34m)\u001b[0m\u001b[0;34m)\u001b[0m\u001b[0;34m\u001b[0m\u001b[0;34m\u001b[0m\u001b[0m\n\u001b[1;32m      2\u001b[0m \u001b[0mprint\u001b[0m\u001b[0;34m(\u001b[0m\u001b[0md\u001b[0m\u001b[0;34m)\u001b[0m\u001b[0;34m\u001b[0m\u001b[0;34m\u001b[0m\u001b[0m\n\u001b[0;32m----> 3\u001b[0;31m \u001b[0md\u001b[0m \u001b[0;34m=\u001b[0m \u001b[0mmy_dist\u001b[0m\u001b[0;34m(\u001b[0m\u001b[0;34m(\u001b[0m\u001b[0;36m0\u001b[0m\u001b[0;34m,\u001b[0m \u001b[0;36m0\u001b[0m\u001b[0;34m)\u001b[0m\u001b[0;34m,\u001b[0m \u001b[0;34m(\u001b[0m\u001b[0;36m0\u001b[0m\u001b[0;34m,\u001b[0m \u001b[0;36m1\u001b[0m\u001b[0;34m)\u001b[0m\u001b[0;34m)\u001b[0m\u001b[0;34m\u001b[0m\u001b[0;34m\u001b[0m\u001b[0m\n\u001b[0m",
            "\u001b[0;31mNameError\u001b[0m: name 'my_dist' is not defined"
          ]
        }
      ]
    },
    {
      "cell_type": "code",
      "source": [
        "import numpy as np\n",
        "\n",
        "def my_dist_xyz(x, y, z):\n",
        "    \"\"\"\n",
        "    x, y, z are 2D coordinates contained in a tuple\n",
        "    output:\n",
        "    d - list, where\n",
        "        d[0] is the distance between x and y\n",
        "        d[1] is the distance between x and z\n",
        "        d[2] is the distance between y and z\n",
        "    \"\"\"\n",
        "\n",
        "    d0 = np.sqrt((x[0]-y[0])**2+(x[1]-y[1])**2)\n",
        "    d1 = np.sqrt((x[0]-z[0])**2+(x[1]-z[1])**2)\n",
        "    d2 = np.sqrt((y[0]-z[0])**2+(y[1]-z[1])**2)\n",
        "\n",
        "    return [d0, d1, d2]"
      ],
      "metadata": {
        "id": "a2jAz3TKDHE6"
      },
      "execution_count": null,
      "outputs": []
    },
    {
      "cell_type": "markdown",
      "source": [
        "# Lambda Functions"
      ],
      "metadata": {
        "id": "QM0B_7ogDzI-"
      }
    },
    {
      "cell_type": "code",
      "source": [
        "# Define a lambda function, which square the input number, and call the function with 2 and 5\n",
        "\n",
        "square = lambda x: x**2\n",
        "\n",
        "print(square(10))\n",
        "print(square(17))"
      ],
      "metadata": {
        "colab": {
          "base_uri": "https://localhost:8080/"
        },
        "id": "r7qNsE6SDwXa",
        "outputId": "210101d5-2d63-4b82-f732-19b580f67930"
      },
      "execution_count": null,
      "outputs": [
        {
          "output_type": "stream",
          "name": "stdout",
          "text": [
            "100\n",
            "289\n"
          ]
        }
      ]
    },
    {
      "cell_type": "code",
      "source": [
        "def square(x):\n",
        "  return x**2\n",
        "\n",
        "my_adder = lambda x,y: x+y\n",
        "\n",
        "print(my_adder(2,4))"
      ],
      "metadata": {
        "colab": {
          "base_uri": "https://localhost:8080/"
        },
        "id": "hKXR2gsGEI10",
        "outputId": "c03af7ab-9cc0-484f-e223-44927a5f0291"
      },
      "execution_count": null,
      "outputs": [
        {
          "output_type": "stream",
          "name": "stdout",
          "text": [
            "6\n"
          ]
        }
      ]
    },
    {
      "cell_type": "code",
      "source": [
        "sorted([(1,2),(2,0),(4,1)], key=lambda x: x[1])"
      ],
      "metadata": {
        "colab": {
          "base_uri": "https://localhost:8080/"
        },
        "id": "-Nd7NeQeEdj0",
        "outputId": "9438f446-3b1a-4a5d-d4a0-d34ac0320104"
      },
      "execution_count": null,
      "outputs": [
        {
          "output_type": "execute_result",
          "data": {
            "text/plain": [
              "[(2, 0), (4, 1), (1, 2)]"
            ]
          },
          "metadata": {},
          "execution_count": 30
        }
      ]
    },
    {
      "cell_type": "markdown",
      "source": [
        "# Functions as Arguments to Functions"
      ],
      "metadata": {
        "id": "4lskkixrts7-"
      }
    },
    {
      "cell_type": "code",
      "source": [
        "f = max\n",
        "\n",
        "def my_fun_plus_one(f, x):\n",
        "  return f(x) + 1\n",
        "\n",
        "print(my_fun_plus_one(np.sin, np.pi/2))\n",
        "print(my_fun_plus_one(np.cos, np.pi/2))\n",
        "print(my_fun_plus_one(np.sqrt, 25))"
      ],
      "metadata": {
        "colab": {
          "base_uri": "https://localhost:8080/"
        },
        "id": "p_6ltbHjExUE",
        "outputId": "f6be3680-f848-4e86-842c-e099ed46ae58"
      },
      "execution_count": null,
      "outputs": [
        {
          "output_type": "stream",
          "name": "stdout",
          "text": [
            "2.0\n",
            "1.0\n",
            "6.0\n"
          ]
        }
      ]
    },
    {
      "cell_type": "code",
      "source": [
        "print(my_fun_plus_one(lambda x: x + 2, 2))"
      ],
      "metadata": {
        "colab": {
          "base_uri": "https://localhost:8080/"
        },
        "id": "58Ha6CwYuE3r",
        "outputId": "25815fbd-75b3-4b99-f9c4-be3a7f1ee017"
      },
      "execution_count": null,
      "outputs": [
        {
          "output_type": "stream",
          "name": "stdout",
          "text": [
            "5\n"
          ]
        }
      ]
    },
    {
      "cell_type": "markdown",
      "source": [
        "# Problems"
      ],
      "metadata": {
        "id": "Gwpsik7tuK5N"
      }
    },
    {
      "cell_type": "markdown",
      "source": [
        "### 1. Recall that the hyperbolic sine, denoted by $sinh$, is $\\frac{exp(x)-exp(-x)}{2}$. Write a function my_sinh(x), where the output $y$ is the hyperbolic sine computed on $x$. Assume that x is a 1 by 1 float."
      ],
      "metadata": {
        "id": "h5TiB_BcuNAo"
      }
    },
    {
      "cell_type": "code",
      "source": [
        "\n",
        "def my_sinh(x):\n",
        "  return (np.exp(x)-np.exp(-x))/(2)\n",
        "\n",
        "print(my_sinh(2))"
      ],
      "metadata": {
        "colab": {
          "base_uri": "https://localhost:8080/"
        },
        "id": "_stotOrAuxS4",
        "outputId": "2f2b76f0-1752-4cc7-8590-8684285a871d"
      },
      "execution_count": null,
      "outputs": [
        {
          "output_type": "stream",
          "name": "stdout",
          "text": [
            "3.626860407847019\n"
          ]
        }
      ]
    },
    {
      "cell_type": "markdown",
      "source": [
        "### 2. Write a function my_checker_board(n), where the output m is an n x n array."
      ],
      "metadata": {
        "id": "q0ET7zAJ1LUv"
      }
    },
    {
      "cell_type": "code",
      "source": [
        "def my_checker_board(n):\n",
        "  x = np.zeros((n,n), dtype=int)\n",
        "  x[::2, ::2] = 1\n",
        "  x[1::2, 1::2] = 1\n",
        "  return x\n",
        "\n",
        "\n",
        "print(my_checker_board(5))"
      ],
      "metadata": {
        "colab": {
          "base_uri": "https://localhost:8080/"
        },
        "id": "EQVuAy9LvIg6",
        "outputId": "0b2b3ba9-7450-45b5-b23b-2b33ea2ecf51"
      },
      "execution_count": null,
      "outputs": [
        {
          "output_type": "stream",
          "name": "stdout",
          "text": [
            "[[1 0 1 0 1]\n",
            " [0 1 0 1 0]\n",
            " [1 0 1 0 1]\n",
            " [0 1 0 1 0]\n",
            " [1 0 1 0 1]]\n"
          ]
        }
      ]
    },
    {
      "cell_type": "code",
      "source": [
        "def my_triangle(b,h):\n",
        "  area = 0.5*b*h\n",
        "  return area"
      ],
      "metadata": {
        "id": "CBMjeMq0v58p"
      },
      "execution_count": null,
      "outputs": []
    }
  ]
}