{
  "nbformat": 4,
  "nbformat_minor": 0,
  "metadata": {
    "colab": {
      "provenance": [],
      "authorship_tag": "ABX9TyPFTvqCOqg2nwN6/aYsGH/Y",
      "include_colab_link": true
    },
    "kernelspec": {
      "name": "python3",
      "display_name": "Python 3"
    },
    "language_info": {
      "name": "python"
    }
  },
  "cells": [
    {
      "cell_type": "markdown",
      "metadata": {
        "id": "view-in-github",
        "colab_type": "text"
      },
      "source": [
        "<a href=\"https://colab.research.google.com/github/lnikam1811/Python-Numerical-Methods/blob/master/Functions.ipynb\" target=\"_parent\"><img src=\"https://colab.research.google.com/assets/colab-badge.svg\" alt=\"Open In Colab\"/></a>"
      ]
    },
    {
      "cell_type": "markdown",
      "source": [
        "# Functions"
      ],
      "metadata": {
        "id": "i_WJcDRdP-rU"
      }
    },
    {
      "cell_type": "code",
      "execution_count": 1,
      "metadata": {
        "colab": {
          "base_uri": "https://localhost:8080/"
        },
        "id": "nt4tI9rSP7MS",
        "outputId": "1fc1fa39-d136-4b5f-efbf-828e3afe8a40"
      },
      "outputs": [
        {
          "output_type": "execute_result",
          "data": {
            "text/plain": [
              "builtin_function_or_method"
            ]
          },
          "metadata": {},
          "execution_count": 1
        }
      ],
      "source": [
        "type(len)"
      ]
    },
    {
      "cell_type": "code",
      "source": [
        "import numpy as np\n",
        "\n",
        "np.linspace?"
      ],
      "metadata": {
        "id": "jmq_8rQBQSld"
      },
      "execution_count": 2,
      "outputs": []
    },
    {
      "cell_type": "code",
      "source": [
        "def my_adder(a, b, c):\n",
        "  \"\"\"\n",
        "  Function to sum the 3 numbers\n",
        "  Input: 3 numbers a, b, c\n",
        "  Output: The sum of a, b, and c\n",
        "  author:\n",
        "  date:\n",
        "  \"\"\"\n",
        "  # This is the summation\n",
        "  out = a + b + c\n",
        "\n",
        "  return out"
      ],
      "metadata": {
        "id": "wVXTajV8QZlS"
      },
      "execution_count": 3,
      "outputs": []
    },
    {
      "cell_type": "code",
      "source": [
        "help(my_adder)"
      ],
      "metadata": {
        "colab": {
          "base_uri": "https://localhost:8080/"
        },
        "id": "PVkp4B6cSbqQ",
        "outputId": "93981ab7-e66e-4a83-d529-0b072e752576"
      },
      "execution_count": 4,
      "outputs": [
        {
          "output_type": "stream",
          "name": "stdout",
          "text": [
            "Help on function my_adder in module __main__:\n",
            "\n",
            "my_adder(a, b, c)\n",
            "    Function to sum the 3 numbers\n",
            "    Input: 3 numbers a, b, c\n",
            "    Output: The sum of a, b, and c\n",
            "    author:\n",
            "    date:\n",
            "\n"
          ]
        }
      ]
    },
    {
      "cell_type": "code",
      "source": [
        "def my_test(a, b):\n",
        "    x = a + b\n",
        "    y = x * b\n",
        "    z = a + b\n",
        "\n",
        "    m = 2\n",
        "\n",
        "    print(f'Within function: x={x}, y={y}, z={z}')\n",
        "    return x, y"
      ],
      "metadata": {
        "id": "vte7P_4ATvCP"
      },
      "execution_count": 5,
      "outputs": []
    },
    {
      "cell_type": "code",
      "source": [
        "a = 2\n",
        "b = 3\n",
        "z = 1\n",
        "y, x = my_test(b, a)\n",
        "\n",
        "print(f'Outside function: x={x}, y={y}, z={z}')"
      ],
      "metadata": {
        "colab": {
          "base_uri": "https://localhost:8080/"
        },
        "id": "7RzNTxjaUhog",
        "outputId": "11e27332-f29d-4222-b676-236ad907759d"
      },
      "execution_count": 6,
      "outputs": [
        {
          "output_type": "stream",
          "name": "stdout",
          "text": [
            "Within function: x=5, y=10, z=5\n",
            "Outside function: x=10, y=5, z=1\n"
          ]
        }
      ]
    },
    {
      "cell_type": "code",
      "source": [
        "n = 42\n",
        "\n",
        "def func():\n",
        "    global n\n",
        "    print(f'Within function: n is {n}')\n",
        "    n = 3\n",
        "    print(f'Within function: change n to {n}')\n",
        "\n",
        "func()\n",
        "print(f'Outside function: Value of n is {n}')"
      ],
      "metadata": {
        "id": "4BtBtKOxUtGJ",
        "outputId": "0770777a-866d-4af3-cce0-f14e7e1fcbf1",
        "colab": {
          "base_uri": "https://localhost:8080/"
        }
      },
      "execution_count": 7,
      "outputs": [
        {
          "output_type": "stream",
          "name": "stdout",
          "text": [
            "Within function: n is 42\n",
            "Within function: change n to 3\n",
            "Outside function: Value of n is 3\n"
          ]
        }
      ]
    },
    {
      "cell_type": "markdown",
      "source": [
        "# Nested functions"
      ],
      "metadata": {
        "id": "6Y7lqf_0B5hH"
      }
    },
    {
      "cell_type": "code",
      "source": [
        "import numpy as np\n",
        "\n",
        "def my_dist_xyz(x,y,z):\n",
        "  \"\"\"\n",
        "  x, y, z are 2D coordinates contained in tuple\n",
        "  output:\n",
        "  d - list, where\n",
        "  d[0] is the distance between x and y\n",
        "  d[1] is the distance between x and z\n",
        "  d[2] is the distance between y and z\n",
        "  \"\"\"\n",
        "  def my_dist(x,y):\n",
        "    \"\"\"\n",
        "    subfunction for my_dist_xyz\n",
        "    Output is the distance between x and y, computed using the\n",
        "    distance formula.\n",
        "    \"\"\"\n",
        "    out = np.sqrt((x[0]-y[0])**2+(x[1]-y[2])**2)\n",
        "    return out\n",
        "\n",
        "  d0 = my_dist(x,y)\n",
        "  d1 = my_dist(x,z)\n",
        "  d2 = my_dist(y,z)\n",
        "\n",
        "  return [d0, d1, d2]"
      ],
      "metadata": {
        "id": "2tTlbGeJBafl"
      },
      "execution_count": 8,
      "outputs": []
    },
    {
      "cell_type": "code",
      "source": [],
      "metadata": {
        "id": "SEdXAmGECg_4"
      },
      "execution_count": null,
      "outputs": []
    }
  ]
}