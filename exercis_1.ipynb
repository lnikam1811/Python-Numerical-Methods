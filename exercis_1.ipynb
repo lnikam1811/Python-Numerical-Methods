{
  "nbformat": 4,
  "nbformat_minor": 0,
  "metadata": {
    "colab": {
      "provenance": [],
      "authorship_tag": "ABX9TyNlDwQ4SRGnLDfH3V683mSW",
      "include_colab_link": true
    },
    "kernelspec": {
      "name": "python3",
      "display_name": "Python 3"
    },
    "language_info": {
      "name": "python"
    }
  },
  "cells": [
    {
      "cell_type": "markdown",
      "metadata": {
        "id": "view-in-github",
        "colab_type": "text"
      },
      "source": [
        "<a href=\"https://colab.research.google.com/github/lnikam1811/Python-Numerical-Methods/blob/master/exercis_1.ipynb\" target=\"_parent\"><img src=\"https://colab.research.google.com/assets/colab-badge.svg\" alt=\"Open In Colab\"/></a>"
      ]
    },
    {
      "cell_type": "markdown",
      "source": [
        "### 5. Compute the area of a triangle with base $10$ and height $12$. Recall that the area of a triangle is half the base times the height."
      ],
      "metadata": {
        "id": "LUtz6bWbwQVt"
      }
    },
    {
      "cell_type": "code",
      "execution_count": null,
      "metadata": {
        "id": "oonvgeFrkyAH",
        "outputId": "596b107b-0764-48cb-b0d5-a65124f159ca",
        "colab": {
          "base_uri": "https://localhost:8080/"
        }
      },
      "outputs": [
        {
          "output_type": "stream",
          "name": "stdout",
          "text": [
            "Area of the triangle is 60.0\n"
          ]
        }
      ],
      "source": [
        "import math\n",
        "\n",
        "height = 12\n",
        "base = 10\n",
        "\n",
        "# Area of the triangle\n",
        "area = 0.5*height*base\n",
        "\n",
        "print(f\"Area of the triangle is {area}\")"
      ]
    },
    {
      "cell_type": "markdown",
      "source": [
        "### 6. Compte the surface area and volume of a cylinder with radius $5$ and height $3$."
      ],
      "metadata": {
        "id": "gcdHuEapxME8"
      }
    },
    {
      "cell_type": "code",
      "source": [
        "radius = 5\n",
        "height = 3\n",
        "\n",
        "# Surface area of the cylinder\n",
        "sa = 2*(math.pi)*(radius**2) + 2*(math.pi)*radius*height\n",
        "\n",
        "# Volume of the cylinder\n",
        "vol = (math.pi)*(radius**2)*height\n",
        "\n",
        "print(f\"The surface area and the volume of the cylinder are {round(sa, 3)} and {round(vol, 3)} respectively\")"
      ],
      "metadata": {
        "id": "dNlgFA6MxZAr",
        "outputId": "86003f4f-adaf-4d1e-9513-b23d5c10c5e8",
        "colab": {
          "base_uri": "https://localhost:8080/"
        }
      },
      "execution_count": null,
      "outputs": [
        {
          "output_type": "stream",
          "name": "stdout",
          "text": [
            "The surface area and the volume of the cylinder are 251.327 and 235.619 respectively\n"
          ]
        }
      ]
    },
    {
      "cell_type": "markdown",
      "source": [
        "### 7. Compute the slope between the points $(3,4)$ and $(5,9)$. Recall that the slope between the points $(x_1, y_1)$ and $(x_2, y_2)$ is $\\frac{y_2-y_1}{x_2-x_1}$ ."
      ],
      "metadata": {
        "id": "vlKf11-Hyf_Z"
      }
    },
    {
      "cell_type": "code",
      "source": [
        "# Slope between the points\n",
        "\n",
        "slope = (9-4)/(5-3)\n",
        "\n",
        "print(f\"The slope between the points is {slope}\")"
      ],
      "metadata": {
        "id": "VjVouWmTy-OS",
        "outputId": "0943dda6-159b-48d3-a9da-45b0ad8af629",
        "colab": {
          "base_uri": "https://localhost:8080/"
        }
      },
      "execution_count": null,
      "outputs": [
        {
          "output_type": "stream",
          "name": "stdout",
          "text": [
            "The slope between the points is 2.5\n"
          ]
        }
      ]
    },
    {
      "cell_type": "markdown",
      "source": [
        "### 8. Compute the distance between the points $(3,4)$ and $(5,9)$. Recall that the distance between points in two dimensions is $\\sqrt{(x_2−x_1)^2+(y_2−y_1)^2}$."
      ],
      "metadata": {
        "id": "cvkRbDQ7zZI6"
      }
    },
    {
      "cell_type": "code",
      "source": [
        "# Distance between points\n",
        "\n",
        "dist = math.sqrt((5-3)**2 + (9-4)**2)\n",
        "\n",
        "print(f\"The distance b/w the points is {round(dist,3)}\")"
      ],
      "metadata": {
        "id": "jU4eRcjNz3-a",
        "outputId": "738faa03-7d0c-4484-ce93-75ef7522a34c",
        "colab": {
          "base_uri": "https://localhost:8080/"
        }
      },
      "execution_count": null,
      "outputs": [
        {
          "output_type": "stream",
          "name": "stdout",
          "text": [
            "The distance b/w the points is 5.385\n"
          ]
        }
      ]
    },
    {
      "cell_type": "markdown",
      "source": [
        "### 10. A year is considered to be 365 days long. However, a more exact figure is 365.24 days. As a consequence, if we held to the standard 365-day year, we would gradually lose that fraction of the day over time, and seasons and other astronomical events would not occur as expected. A leap year is a year that has an extra day, February 29, to keep the timescale on track. Leap years occur on years that are exactly divisible by 4, unless it is exactly divisible by 100, unless it is divisible by 400. For example, the year 2004 is a leap year, the year 1900 is not a leap year, and the year 2000 is a leap year. Compute the number of leap years between the years 1500 and 2010."
      ],
      "metadata": {
        "id": "_XbL2Kaa0SZU"
      }
    },
    {
      "cell_type": "code",
      "source": [
        "count = 0\n",
        "for yr in range(1500,2010):\n",
        "  if ((yr % 4 == 0) and (yr % 100 != 0) or (yr % 40 == 0)):\n",
        "    count += 1\n",
        "\n",
        "print(f\" The number of leap years between 1500 and 2010 are {count}.\")\n",
        "  "
      ],
      "metadata": {
        "id": "-IxBfeN60ZxW",
        "outputId": "c7bd1ada-cfb9-4e25-9bc4-269941d78f31",
        "colab": {
          "base_uri": "https://localhost:8080/"
        }
      },
      "execution_count": null,
      "outputs": [
        {
          "output_type": "stream",
          "name": "stdout",
          "text": [
            " The number of leap years between 1500 and 2010 are 125.\n"
          ]
        }
      ]
    },
    {
      "cell_type": "markdown",
      "source": [
        "### 11. A very powerful approximation for $\\pi$ was developed by a brilliant mathematician named Srinivasa Ramanujan. The approximation is the following: $$\\frac{1}{\\pi} ≈ \\frac{2\\sqrt{2}}{9801}\\sum_{K=0}^{N} \\frac{(4k)!(1103+26390k)}{(k!)^4(396)^{4k}}$$\n",
        "### Use Ramanujan's formula for $N=0$ and $N=1$ to approximate $\\pi$. Be sure to use format long. Compare your approximation with Python's stored value for $π$. Hint: $0!=1$ by definition."
      ],
      "metadata": {
        "id": "hOrLTGut2K4v"
      }
    },
    {
      "cell_type": "code",
      "source": [
        "\n",
        "i = 0\n",
        "for N in range(1, 3):\n",
        "  result = (2*(math.sqrt(2))/9801)*sum(((math.factorial(4*k))*(1103+26390*k))/(((math.factorial(k))**4)*(396)**(4*k)) for k in range(0, N))\n",
        "  print(f\"The result for approximation of pi using Ramanujan's formula, where N = {i} is {1/result}\")\n",
        "  error = (abs(1/result - math.pi)/(math.pi))*100\n",
        "  print(f\"The error from true value to the calculated value is {error}\")\n",
        "  i += 1\n",
        "\n"
      ],
      "metadata": {
        "colab": {
          "base_uri": "https://localhost:8080/"
        },
        "id": "lw8NNW4RzGGX",
        "outputId": "084f9666-c908-470c-9f0f-ed8157a6f3b3"
      },
      "execution_count": 55,
      "outputs": [
        {
          "output_type": "stream",
          "name": "stdout",
          "text": [
            "The result for approximation of pi using Ramanujan's formula, where N = 0 is 3.1415927300133055\n",
            "The error from true value to the calculated value is 2.4326359536143023e-06\n",
            "The result for approximation of pi using Ramanujan's formula, where N = 1 is 3.1415926535897936\n",
            "The error from true value to the calculated value is 1.4135798584282298e-14\n"
          ]
        }
      ]
    }
  ]
}