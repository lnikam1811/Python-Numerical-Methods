{
  "nbformat": 4,
  "nbformat_minor": 0,
  "metadata": {
    "colab": {
      "provenance": [],
      "authorship_tag": "ABX9TyNmLsSZZqyZsrKpRpKxZRQP",
      "include_colab_link": true
    },
    "kernelspec": {
      "name": "python3",
      "display_name": "Python 3"
    },
    "language_info": {
      "name": "python"
    }
  },
  "cells": [
    {
      "cell_type": "markdown",
      "metadata": {
        "id": "view-in-github",
        "colab_type": "text"
      },
      "source": [
        "<a href=\"https://colab.research.google.com/github/lnikam1811/Python-Numerical-Methods/blob/master/exercis_1.ipynb\" target=\"_parent\"><img src=\"https://colab.research.google.com/assets/colab-badge.svg\" alt=\"Open In Colab\"/></a>"
      ]
    },
    {
      "cell_type": "markdown",
      "source": [
        "### 5. Compute the area of a triangle with base $10$ and height $12$. Recall that the area of a triangle is half the base times the height."
      ],
      "metadata": {
        "id": "LUtz6bWbwQVt"
      }
    },
    {
      "cell_type": "code",
      "execution_count": 2,
      "metadata": {
        "id": "oonvgeFrkyAH",
        "outputId": "4f75dbc5-69ed-47c5-992b-5f19f6731db1",
        "colab": {
          "base_uri": "https://localhost:8080/"
        }
      },
      "outputs": [
        {
          "output_type": "stream",
          "name": "stdout",
          "text": [
            "Area of the triangle is 60.0\n"
          ]
        }
      ],
      "source": [
        "import math\n",
        "\n",
        "height = 12\n",
        "base = 10\n",
        "\n",
        "# Area of the triangle\n",
        "area = 0.5*height*base\n",
        "\n",
        "print(f\"Area of the triangle is {area}\")"
      ]
    },
    {
      "cell_type": "markdown",
      "source": [
        "### 6. Compte the surface area and volume of a cylinder with radius $5$ and height $3$."
      ],
      "metadata": {
        "id": "gcdHuEapxME8"
      }
    },
    {
      "cell_type": "code",
      "source": [
        "radius = 5\n",
        "height = 3\n",
        "\n",
        "# Surface area of the cylinder\n",
        "sa = 2*(math.pi)*(radius**2) + 2*(math.pi)*radius*height\n",
        "\n",
        "# Volume of the cylinder\n",
        "vol = (math.pi)*(radius**2)*height\n",
        "\n",
        "print(f\"The surface area and the volume of the cylinder are {round(sa, 3)} and {round(vol, 3)} respectively\")"
      ],
      "metadata": {
        "id": "dNlgFA6MxZAr",
        "outputId": "1e051484-00f7-4b8a-8d3c-49c2868fd4b4",
        "colab": {
          "base_uri": "https://localhost:8080/"
        }
      },
      "execution_count": 3,
      "outputs": [
        {
          "output_type": "stream",
          "name": "stdout",
          "text": [
            "The surface area and the volume of the cylinder are 251.327 and 235.619 respectively\n"
          ]
        }
      ]
    },
    {
      "cell_type": "markdown",
      "source": [
        "### 7. Compute the slope between the points $(3,4)$ and $(5,9)$. Recall that the slope between the points $(x_1, y_1)$ and $(x_2, y_2)$ is $\\frac{y_2-y_1}{x_2-x_1}$ ."
      ],
      "metadata": {
        "id": "vlKf11-Hyf_Z"
      }
    },
    {
      "cell_type": "code",
      "source": [
        "# Slope between the points\n",
        "\n",
        "slope = (9-4)/(5-3)\n",
        "\n",
        "print(f\"The slope between the points is {slope}\")"
      ],
      "metadata": {
        "id": "VjVouWmTy-OS",
        "outputId": "16ff32d2-ad52-4402-d785-361ce828454f",
        "colab": {
          "base_uri": "https://localhost:8080/"
        }
      },
      "execution_count": 4,
      "outputs": [
        {
          "output_type": "stream",
          "name": "stdout",
          "text": [
            "The slope between the points is 2.5\n"
          ]
        }
      ]
    },
    {
      "cell_type": "markdown",
      "source": [
        "### 8. Compute the distance between the points $(3,4)$ and $(5,9)$. Recall that the distance between points in two dimensions is $\\sqrt{(x_2−x_1)^2+(y_2−y_1)^2}$."
      ],
      "metadata": {
        "id": "cvkRbDQ7zZI6"
      }
    },
    {
      "cell_type": "code",
      "source": [
        "# Distance between points\n",
        "\n",
        "dist = math.sqrt((5-3)**2 + (9-4)**2)\n",
        "\n",
        "print(f\"The distance b/w the points is {round(dist,3)}\")"
      ],
      "metadata": {
        "id": "jU4eRcjNz3-a",
        "outputId": "efc1339f-88a6-4fc7-c890-31b366852d78",
        "colab": {
          "base_uri": "https://localhost:8080/"
        }
      },
      "execution_count": 5,
      "outputs": [
        {
          "output_type": "stream",
          "name": "stdout",
          "text": [
            "The distance b/w the points is 5.385\n"
          ]
        }
      ]
    },
    {
      "cell_type": "markdown",
      "source": [
        "### 10. A year is considered to be 365 days long. However, a more exact figure is 365.24 days. As a consequence, if we held to the standard 365-day year, we would gradually lose that fraction of the day over time, and seasons and other astronomical events would not occur as expected. A leap year is a year that has an extra day, February 29, to keep the timescale on track. Leap years occur on years that are exactly divisible by 4, unless it is exactly divisible by 100, unless it is divisible by 400. For example, the year 2004 is a leap year, the year 1900 is not a leap year, and the year 2000 is a leap year. Compute the number of leap years between the years 1500 and 2010."
      ],
      "metadata": {
        "id": "_XbL2Kaa0SZU"
      }
    },
    {
      "cell_type": "code",
      "source": [
        "count = 0\n",
        "for yr in range(1500,2010):\n",
        "  if ((yr % 4 == 0) and (yr % 100 != 0) or (yr % 40 == 0)):\n",
        "    count += 1\n",
        "\n",
        "print(f\" The number of leap years between 1500 and 2010 are {count}.\")\n",
        "  "
      ],
      "metadata": {
        "id": "-IxBfeN60ZxW",
        "outputId": "d4bb6c17-70b3-482a-bfde-929c867f9c1b",
        "colab": {
          "base_uri": "https://localhost:8080/"
        }
      },
      "execution_count": 6,
      "outputs": [
        {
          "output_type": "stream",
          "name": "stdout",
          "text": [
            " The number of leap years between 1500 and 2010 are 125.\n"
          ]
        }
      ]
    },
    {
      "cell_type": "markdown",
      "source": [
        "### 11. A very powerful approximation for $\\pi$ was developed by a brilliant mathematician named Srinivasa Ramanujan. The approximation is the following: $$\\frac{1}{\\pi} ≈ \\frac{2\\sqrt{2}}{9801}\\sum_{K=0}^{N} \\frac{(4k)!(1103+26390k)}{(k!)^4(396)^{4k}}$$\n",
        "### Use Ramanujan's formula for $N=0$ and $N=1$ to approximate $\\pi$. Be sure to use format long. Compare your approximation with Python's stored value for $π$. Hint: $0!=1$ by definition."
      ],
      "metadata": {
        "id": "hOrLTGut2K4v"
      }
    },
    {
      "cell_type": "code",
      "source": [
        "\n",
        "i = 0\n",
        "for N in range(1, 3):\n",
        "  result = (2*(math.sqrt(2))/9801)*sum(((math.factorial(4*k))*(1103+26390*k))/(((math.factorial(k))**4)*(396)**(4*k)) for k in range(0, N))\n",
        "  print(f\"The result for approximation of pi using Ramanujan's formula, where N = {i} is {1/result}\")\n",
        "  error = (abs(1/result - math.pi)/(math.pi))*100\n",
        "  print(f\"The error from true value to the calculated value is {error}\")\n",
        "  i += 1\n",
        "\n"
      ],
      "metadata": {
        "colab": {
          "base_uri": "https://localhost:8080/"
        },
        "id": "lw8NNW4RzGGX",
        "outputId": "bb49470d-20c7-47ca-a050-e9c6b48befbd"
      },
      "execution_count": 7,
      "outputs": [
        {
          "output_type": "stream",
          "name": "stdout",
          "text": [
            "The result for approximation of pi using Ramanujan's formula, where N = 0 is 3.1415927300133055\n",
            "The error from true value to the calculated value is 2.4326359536143023e-06\n",
            "The result for approximation of pi using Ramanujan's formula, where N = 1 is 3.1415926535897936\n",
            "The error from true value to the calculated value is 1.4135798584282298e-14\n"
          ]
        }
      ]
    },
    {
      "cell_type": "markdown",
      "source": [
        "### 12. The hyperbolic $sin$ or $sinh$ is defined in terms of exponentials as $\\sinh(x) = \\frac{e^{x} - e^{-x}}{2}$. Compute $sinh$ for $x=2$ using exponentials. Verify that the result is indeed the hyperbolic $sin$ using Python's function sinh in the math module."
      ],
      "metadata": {
        "id": "UI9GOj5Kvjva"
      }
    },
    {
      "cell_type": "code",
      "source": [
        "import math\n",
        "\n",
        "x =2\n",
        "\n",
        "# Using exponentials\n",
        "a = (math.exp(x) -math.exp(-x))/(2)\n",
        "\n",
        "# Default value of sinh\n",
        "b = math.sinh(x)\n",
        "\n",
        "print(f\"Using exponentials = {a} and default value = {b}\")"
      ],
      "metadata": {
        "id": "bkY7EmGnwkVH",
        "outputId": "9b03a31b-bb1b-48b3-948a-d5dbf7fe123d",
        "colab": {
          "base_uri": "https://localhost:8080/"
        }
      },
      "execution_count": 8,
      "outputs": [
        {
          "output_type": "stream",
          "name": "stdout",
          "text": [
            "Using exponentials = 3.626860407847019 and default value = 3.626860407847019\n"
          ]
        }
      ]
    },
    {
      "cell_type": "markdown",
      "source": [
        "### 13. Verify that $sin^2(x)+cos^2(x)=1$ for $x=π,π/2,π/4,π/6$"
      ],
      "metadata": {
        "id": "o2ljqUG5xaEq"
      }
    },
    {
      "cell_type": "code",
      "source": [
        "i = math.pi\n",
        "\n",
        "for j in range(1,7,1):\n",
        "  result = math.sin(i/j)**2 + math.cos(i/j)**2\n",
        "  print(result)\n",
        "\n",
        "\n"
      ],
      "metadata": {
        "id": "hx3GykFtxkE6",
        "outputId": "d9446d15-ae45-421b-b015-72520353ef5b",
        "colab": {
          "base_uri": "https://localhost:8080/"
        }
      },
      "execution_count": 9,
      "outputs": [
        {
          "output_type": "stream",
          "name": "stdout",
          "text": [
            "1.0\n",
            "1.0\n",
            "1.0\n",
            "1.0\n",
            "1.0\n",
            "1.0\n"
          ]
        }
      ]
    },
    {
      "cell_type": "code",
      "source": [
        "%whos"
      ],
      "metadata": {
        "id": "DA6GjqIpuuv5",
        "outputId": "4b4b0ec7-fe62-45b8-d811-7727e9a89424",
        "colab": {
          "base_uri": "https://localhost:8080/"
        }
      },
      "execution_count": 10,
      "outputs": [
        {
          "output_type": "stream",
          "name": "stdout",
          "text": [
            "Variable   Type      Data/Info\n",
            "------------------------------\n",
            "N          int       2\n",
            "a          float     3.626860407847019\n",
            "area       float     60.0\n",
            "b          float     3.626860407847019\n",
            "base       int       10\n",
            "count      int       125\n",
            "dist       float     5.385164807134504\n",
            "error      float     1.4135798584282298e-14\n",
            "height     int       3\n",
            "i          float     3.141592653589793\n",
            "j          int       6\n",
            "math       module    <module 'math' (built-in)>\n",
            "radius     int       5\n",
            "result     float     1.0\n",
            "sa         float     251.32741228718345\n",
            "slope      float     2.5\n",
            "vol        float     235.61944901923448\n",
            "x          int       2\n",
            "yr         int       2009\n"
          ]
        }
      ]
    }
  ]
}